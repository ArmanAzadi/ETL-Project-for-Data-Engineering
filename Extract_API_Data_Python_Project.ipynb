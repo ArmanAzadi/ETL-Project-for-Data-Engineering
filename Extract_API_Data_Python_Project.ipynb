{
 "cells": [
  {
   "attachments": {},
   "cell_type": "markdown",
   "metadata": {},
   "source": [
    "Data Engineer - Extract API Data\n"
   ]
  },
  {
   "cell_type": "markdown",
   "metadata": {},
   "source": [
    "## Objectives\n",
    "\n",
    "In this part you will:\n",
    "\n",
    "*   Collect exchange rate data using an API\n",
    "*   Store the data as a CSV\n"
   ]
  },
  {
   "cell_type": "markdown",
   "metadata": {},
   "source": [
    "For this lab, we are going to be using Python and several Python libraries. Some of these libraries might be installed in your lab environment or in SN Labs. Others may need to be installed by you. The cells below will install these libraries when executed.\n"
   ]
  },
  {
   "cell_type": "code",
   "execution_count": 1,
   "metadata": {},
   "outputs": [],
   "source": [
    "#!mamba install pandas==1.3.3 -y\n",
    "#!mamba install requests==2.26.0 -y"
   ]
  },
  {
   "cell_type": "markdown",
   "metadata": {},
   "source": [
    "## Imports\n",
    "\n",
    "Import any additional libraries you may need here.\n"
   ]
  },
  {
   "cell_type": "code",
   "execution_count": 2,
   "metadata": {},
   "outputs": [],
   "source": [
    "import requests\n",
    "import pandas as pd"
   ]
  },
  {
   "cell_type": "markdown",
   "metadata": {},
   "source": [
    "## Extract Data Using an API\n"
   ]
  },
  {
   "cell_type": "markdown",
   "metadata": {},
   "source": [
    "Using ExchangeRate-API we will extract currency exchange rate data. Use the below steps to get the access key and to get the data.\n",
    "\n",
    "1.  Open the url : [https://exchangeratesapi.io/](https://exchangeratesapi.io/?utm_medium=Exinfluencer&utm_source=Exinfluencer&utm_content=000026UJ&utm_term=10006555&utm_id=NA-SkillsNetwork-Channel-SkillsNetworkCoursesIBMDeveloperSkillsNetworkPY0221ENSkillsNetwork23455645-2022-01-01) and click on **Get Free API Key**.\n",
    "2.  Subscribe for Free plan and Sign-in with the Google Account.\n",
    "3.  Once the account is created you will be redirected to [https://apilayer.com](https://apilayer.com/?utm_medium=Exinfluencer&utm_source=Exinfluencer&utm_content=000026UJ&utm_term=10006555&utm_id=NA-SkillsNetwork-Channel-SkillsNetworkCoursesIBMDeveloperSkillsNetworkPY0221ENSkillsNetwork23455645-2022-01-01) website.\n",
    "4.  Now, click on the **user icon** and click **Account** as shown below:\n",
    "\n",
    "<img src=\"https://cf-courses-data.s3.us.cloud-object-storage.appdomain.cloud/IBMDeveloperSkillsNetwork-PY0221EN-SkillsNetwork/labs/module%206/Final%20Assignment/Images/account.png\"/>\n",
    "\n",
    "3.  Scroll down and you will get the API Key section. Copy the API key and use in the url in Question 1.\n"
   ]
  },
  {
   "cell_type": "markdown",
   "metadata": {},
   "source": [
    "### Call the API\n",
    "\n",
    "<b> Question 1</b> Using the `requests` library call the endpoint given above and save the text, remember the first few characters of the output:\n"
   ]
  },
  {
   "cell_type": "code",
   "execution_count": 6,
   "metadata": {},
   "outputs": [
    {
     "data": {
      "text/plain": [
       "{'success': True,\n",
       " 'timestamp': 1678720743,\n",
       " 'base': 'EUR',\n",
       " 'date': '2023-03-13',\n",
       " 'rates': {'AED': 3.937626,\n",
       "  'AFN': 94.88349,\n",
       "  'ALL': 114.584264,\n",
       "  'AMD': 416.950554,\n",
       "  'ANG': 1.933929,\n",
       "  'AOA': 544.110471,\n",
       "  'ARS': 215.120245,\n",
       "  'AUD': 1.598601,\n",
       "  'AWG': 1.92984,\n",
       "  'AZN': 1.823011,\n",
       "  'BAM': 1.967995,\n",
       "  'BBD': 2.149932,\n",
       "  'BDT': 113.181322,\n",
       "  'BGN': 1.956375,\n",
       "  'BHD': 0.404162,\n",
       "  'BIF': 2230.037503,\n",
       "  'BMD': 1.072133,\n",
       "  'BND': 1.445605,\n",
       "  'BOB': 7.419734,\n",
       "  'BRL': 5.597292,\n",
       "  'BSD': 1.073054,\n",
       "  'BTC': 4.4208647e-05,\n",
       "  'BTN': 88.099762,\n",
       "  'BWP': 14.175299,\n",
       "  'BYN': 2.70847,\n",
       "  'BYR': 21013.81493,\n",
       "  'BZD': 2.151421,\n",
       "  'CAD': 1.467209,\n",
       "  'CDF': 2197.873647,\n",
       "  'CHF': 0.977014,\n",
       "  'CLF': 0.031136,\n",
       "  'CLP': 859.089609,\n",
       "  'CNY': 7.333608,\n",
       "  'COP': 5111.128022,\n",
       "  'CRC': 588.04378,\n",
       "  'CUC': 1.072133,\n",
       "  'CUP': 28.411535,\n",
       "  'CVE': 111.448661,\n",
       "  'CZK': 23.689841,\n",
       "  'DJF': 191.002646,\n",
       "  'DKK': 7.444541,\n",
       "  'DOP': 58.9673,\n",
       "  'DZD': 145.720077,\n",
       "  'EGP': 33.129571,\n",
       "  'ERN': 16.082001,\n",
       "  'ETB': 57.670253,\n",
       "  'EUR': 1,\n",
       "  'FJD': 2.370503,\n",
       "  'FKP': 0.890853,\n",
       "  'GBP': 0.881304,\n",
       "  'GEL': 2.765675,\n",
       "  'GGP': 0.890853,\n",
       "  'GHS': 13.241063,\n",
       "  'GIP': 0.890853,\n",
       "  'GMD': 65.668194,\n",
       "  'GNF': 9461.577336,\n",
       "  'GTQ': 8.377104,\n",
       "  'GYD': 226.281538,\n",
       "  'HKD': 8.404186,\n",
       "  'HNL': 26.459787,\n",
       "  'HRK': 7.536097,\n",
       "  'HTG': 165.013265,\n",
       "  'HUF': 391.704079,\n",
       "  'IDR': 16471.453685,\n",
       "  'ILS': 3.888231,\n",
       "  'IMP': 0.890853,\n",
       "  'INR': 88.09211,\n",
       "  'IQD': 1565.314786,\n",
       "  'IRR': 45324.439872,\n",
       "  'ISK': 151.267329,\n",
       "  'JEP': 0.890853,\n",
       "  'JMD': 164.374706,\n",
       "  'JOD': 0.761427,\n",
       "  'JPY': 142.402368,\n",
       "  'KES': 138.433855,\n",
       "  'KGS': 93.726323,\n",
       "  'KHR': 4336.77954,\n",
       "  'KMF': 495.164989,\n",
       "  'KPW': 964.920073,\n",
       "  'KRW': 1393.720395,\n",
       "  'KWD': 0.328684,\n",
       "  'KYD': 0.89427,\n",
       "  'KZT': 489.610695,\n",
       "  'LAK': 18186.599363,\n",
       "  'LBP': 16376.837973,\n",
       "  'LKR': 354.125973,\n",
       "  'LRD': 171.115509,\n",
       "  'LSL': 19.561064,\n",
       "  'LTL': 3.165731,\n",
       "  'LVL': 0.648523,\n",
       "  'LYD': 5.205236,\n",
       "  'MAD': 11.149651,\n",
       "  'MDL': 20.082786,\n",
       "  'MGA': 4631.616555,\n",
       "  'MKD': 61.934652,\n",
       "  'MMK': 2253.41571,\n",
       "  'MNT': 3786.813685,\n",
       "  'MOP': 8.668137,\n",
       "  'MRO': 382.751445,\n",
       "  'MUR': 50.550803,\n",
       "  'MVR': 16.468158,\n",
       "  'MWK': 1123.595962,\n",
       "  'MXN': 20.190256,\n",
       "  'MYR': 4.845512,\n",
       "  'MZN': 67.652199,\n",
       "  'NAD': 19.566315,\n",
       "  'NGN': 493.738664,\n",
       "  'NIO': 39.186841,\n",
       "  'NOK': 11.294186,\n",
       "  'NPR': 140.95982,\n",
       "  'NZD': 1.714105,\n",
       "  'OMR': 0.412747,\n",
       "  'PAB': 1.073044,\n",
       "  'PEN': 4.051056,\n",
       "  'PGK': 3.779294,\n",
       "  'PHP': 58.818849,\n",
       "  'PKR': 300.727488,\n",
       "  'PLN': 4.684805,\n",
       "  'PYG': 7728.746571,\n",
       "  'QAR': 3.903621,\n",
       "  'RON': 4.919489,\n",
       "  'RSD': 117.355146,\n",
       "  'RUB': 80.539744,\n",
       "  'RWF': 1174.522156,\n",
       "  'SAR': 4.024597,\n",
       "  'SBD': 8.790341,\n",
       "  'SCR': 15.057941,\n",
       "  'SDG': 636.846965,\n",
       "  'SEK': 11.375067,\n",
       "  'SGD': 1.443111,\n",
       "  'SHP': 1.304519,\n",
       "  'SLE': 21.88215,\n",
       "  'SLL': 21174.634669,\n",
       "  'SOS': 610.578831,\n",
       "  'SRD': 36.41715,\n",
       "  'STD': 22190.997058,\n",
       "  'SVC': 9.389091,\n",
       "  'SYP': 2693.769169,\n",
       "  'SZL': 19.566558,\n",
       "  'THB': 36.994503,\n",
       "  'TJS': 11.717983,\n",
       "  'TMT': 3.763188,\n",
       "  'TND': 3.347238,\n",
       "  'TOP': 2.539856,\n",
       "  'TRY': 20.341061,\n",
       "  'TTD': 7.286148,\n",
       "  'TWD': 32.690739,\n",
       "  'TZS': 2490.147206,\n",
       "  'UAH': 39.628803,\n",
       "  'UGX': 3990.821963,\n",
       "  'USD': 1.072133,\n",
       "  'UYU': 42.061613,\n",
       "  'UZS': 12227.681745,\n",
       "  'VEF': 2581691.733338,\n",
       "  'VES': 25.843625,\n",
       "  'VND': 25288.946922,\n",
       "  'VUV': 128.001288,\n",
       "  'WST': 2.988916,\n",
       "  'XAF': 660.111896,\n",
       "  'XAG': 0.049136,\n",
       "  'XAU': 0.000561,\n",
       "  'XCD': 2.897494,\n",
       "  'XDR': 0.808506,\n",
       "  'XOF': 663.117155,\n",
       "  'XPF': 120.347316,\n",
       "  'YER': 268.381819,\n",
       "  'ZAR': 19.510795,\n",
       "  'ZMK': 9650.485359,\n",
       "  'ZMW': 21.801379,\n",
       "  'ZWL': 345.226522}}"
      ]
     },
     "execution_count": 6,
     "metadata": {},
     "output_type": "execute_result"
    }
   ],
   "source": [
    "# Write your code here\n",
    "url = \"https://api.apilayer.com/exchangerates_data/latest?base=EUR&apikey=HgB72BZ3fqpJBwcHSPnpsU8ZkZQwOBDm\" #Make sure to change ******* to your API key.\n",
    "response = requests.get(url)\n",
    "response.json()"
   ]
  },
  {
   "cell_type": "markdown",
   "metadata": {},
   "source": [
    "### Save as DataFrame\n",
    "\n",
    "<b> Question 2</b>  Using the data gathered turn it into a `pandas` dataframe. The dataframe should have the Currency as the index and `Rate` as their columns. Make sure to drop unnecessary columns.\n"
   ]
  },
  {
   "cell_type": "code",
   "execution_count": 7,
   "metadata": {},
   "outputs": [
    {
     "data": {
      "text/html": [
       "<div>\n",
       "<style scoped>\n",
       "    .dataframe tbody tr th:only-of-type {\n",
       "        vertical-align: middle;\n",
       "    }\n",
       "\n",
       "    .dataframe tbody tr th {\n",
       "        vertical-align: top;\n",
       "    }\n",
       "\n",
       "    .dataframe thead th {\n",
       "        text-align: right;\n",
       "    }\n",
       "</style>\n",
       "<table border=\"1\" class=\"dataframe\">\n",
       "  <thead>\n",
       "    <tr style=\"text-align: right;\">\n",
       "      <th></th>\n",
       "      <th>success</th>\n",
       "      <th>timestamp</th>\n",
       "      <th>base</th>\n",
       "      <th>date</th>\n",
       "      <th>rates</th>\n",
       "    </tr>\n",
       "  </thead>\n",
       "  <tbody>\n",
       "    <tr>\n",
       "      <th>AED</th>\n",
       "      <td>True</td>\n",
       "      <td>1678720743</td>\n",
       "      <td>EUR</td>\n",
       "      <td>2023-03-13</td>\n",
       "      <td>3.937626</td>\n",
       "    </tr>\n",
       "    <tr>\n",
       "      <th>AFN</th>\n",
       "      <td>True</td>\n",
       "      <td>1678720743</td>\n",
       "      <td>EUR</td>\n",
       "      <td>2023-03-13</td>\n",
       "      <td>94.883490</td>\n",
       "    </tr>\n",
       "    <tr>\n",
       "      <th>ALL</th>\n",
       "      <td>True</td>\n",
       "      <td>1678720743</td>\n",
       "      <td>EUR</td>\n",
       "      <td>2023-03-13</td>\n",
       "      <td>114.584264</td>\n",
       "    </tr>\n",
       "    <tr>\n",
       "      <th>AMD</th>\n",
       "      <td>True</td>\n",
       "      <td>1678720743</td>\n",
       "      <td>EUR</td>\n",
       "      <td>2023-03-13</td>\n",
       "      <td>416.950554</td>\n",
       "    </tr>\n",
       "    <tr>\n",
       "      <th>ANG</th>\n",
       "      <td>True</td>\n",
       "      <td>1678720743</td>\n",
       "      <td>EUR</td>\n",
       "      <td>2023-03-13</td>\n",
       "      <td>1.933929</td>\n",
       "    </tr>\n",
       "    <tr>\n",
       "      <th>...</th>\n",
       "      <td>...</td>\n",
       "      <td>...</td>\n",
       "      <td>...</td>\n",
       "      <td>...</td>\n",
       "      <td>...</td>\n",
       "    </tr>\n",
       "    <tr>\n",
       "      <th>YER</th>\n",
       "      <td>True</td>\n",
       "      <td>1678720743</td>\n",
       "      <td>EUR</td>\n",
       "      <td>2023-03-13</td>\n",
       "      <td>268.381819</td>\n",
       "    </tr>\n",
       "    <tr>\n",
       "      <th>ZAR</th>\n",
       "      <td>True</td>\n",
       "      <td>1678720743</td>\n",
       "      <td>EUR</td>\n",
       "      <td>2023-03-13</td>\n",
       "      <td>19.510795</td>\n",
       "    </tr>\n",
       "    <tr>\n",
       "      <th>ZMK</th>\n",
       "      <td>True</td>\n",
       "      <td>1678720743</td>\n",
       "      <td>EUR</td>\n",
       "      <td>2023-03-13</td>\n",
       "      <td>9650.485359</td>\n",
       "    </tr>\n",
       "    <tr>\n",
       "      <th>ZMW</th>\n",
       "      <td>True</td>\n",
       "      <td>1678720743</td>\n",
       "      <td>EUR</td>\n",
       "      <td>2023-03-13</td>\n",
       "      <td>21.801379</td>\n",
       "    </tr>\n",
       "    <tr>\n",
       "      <th>ZWL</th>\n",
       "      <td>True</td>\n",
       "      <td>1678720743</td>\n",
       "      <td>EUR</td>\n",
       "      <td>2023-03-13</td>\n",
       "      <td>345.226522</td>\n",
       "    </tr>\n",
       "  </tbody>\n",
       "</table>\n",
       "<p>170 rows × 5 columns</p>\n",
       "</div>"
      ],
      "text/plain": [
       "     success   timestamp base        date        rates\n",
       "AED     True  1678720743  EUR  2023-03-13     3.937626\n",
       "AFN     True  1678720743  EUR  2023-03-13    94.883490\n",
       "ALL     True  1678720743  EUR  2023-03-13   114.584264\n",
       "AMD     True  1678720743  EUR  2023-03-13   416.950554\n",
       "ANG     True  1678720743  EUR  2023-03-13     1.933929\n",
       "..       ...         ...  ...         ...          ...\n",
       "YER     True  1678720743  EUR  2023-03-13   268.381819\n",
       "ZAR     True  1678720743  EUR  2023-03-13    19.510795\n",
       "ZMK     True  1678720743  EUR  2023-03-13  9650.485359\n",
       "ZMW     True  1678720743  EUR  2023-03-13    21.801379\n",
       "ZWL     True  1678720743  EUR  2023-03-13   345.226522\n",
       "\n",
       "[170 rows x 5 columns]"
      ]
     },
     "execution_count": 7,
     "metadata": {},
     "output_type": "execute_result"
    }
   ],
   "source": [
    "# Turn the data into a dataframe\n",
    "dataframe = pd.DataFrame(response.json())\n",
    "dataframe"
   ]
  },
  {
   "cell_type": "code",
   "execution_count": 9,
   "metadata": {},
   "outputs": [
    {
     "data": {
      "text/html": [
       "<div>\n",
       "<style scoped>\n",
       "    .dataframe tbody tr th:only-of-type {\n",
       "        vertical-align: middle;\n",
       "    }\n",
       "\n",
       "    .dataframe tbody tr th {\n",
       "        vertical-align: top;\n",
       "    }\n",
       "\n",
       "    .dataframe thead th {\n",
       "        text-align: right;\n",
       "    }\n",
       "</style>\n",
       "<table border=\"1\" class=\"dataframe\">\n",
       "  <thead>\n",
       "    <tr style=\"text-align: right;\">\n",
       "      <th></th>\n",
       "      <th>rates</th>\n",
       "    </tr>\n",
       "  </thead>\n",
       "  <tbody>\n",
       "    <tr>\n",
       "      <th>AED</th>\n",
       "      <td>3.937626</td>\n",
       "    </tr>\n",
       "    <tr>\n",
       "      <th>AFN</th>\n",
       "      <td>94.883490</td>\n",
       "    </tr>\n",
       "    <tr>\n",
       "      <th>ALL</th>\n",
       "      <td>114.584264</td>\n",
       "    </tr>\n",
       "    <tr>\n",
       "      <th>AMD</th>\n",
       "      <td>416.950554</td>\n",
       "    </tr>\n",
       "    <tr>\n",
       "      <th>ANG</th>\n",
       "      <td>1.933929</td>\n",
       "    </tr>\n",
       "    <tr>\n",
       "      <th>...</th>\n",
       "      <td>...</td>\n",
       "    </tr>\n",
       "    <tr>\n",
       "      <th>YER</th>\n",
       "      <td>268.381819</td>\n",
       "    </tr>\n",
       "    <tr>\n",
       "      <th>ZAR</th>\n",
       "      <td>19.510795</td>\n",
       "    </tr>\n",
       "    <tr>\n",
       "      <th>ZMK</th>\n",
       "      <td>9650.485359</td>\n",
       "    </tr>\n",
       "    <tr>\n",
       "      <th>ZMW</th>\n",
       "      <td>21.801379</td>\n",
       "    </tr>\n",
       "    <tr>\n",
       "      <th>ZWL</th>\n",
       "      <td>345.226522</td>\n",
       "    </tr>\n",
       "  </tbody>\n",
       "</table>\n",
       "<p>170 rows × 1 columns</p>\n",
       "</div>"
      ],
      "text/plain": [
       "           rates\n",
       "AED     3.937626\n",
       "AFN    94.883490\n",
       "ALL   114.584264\n",
       "AMD   416.950554\n",
       "ANG     1.933929\n",
       "..           ...\n",
       "YER   268.381819\n",
       "ZAR    19.510795\n",
       "ZMK  9650.485359\n",
       "ZMW    21.801379\n",
       "ZWL   345.226522\n",
       "\n",
       "[170 rows x 1 columns]"
      ]
     },
     "execution_count": 9,
     "metadata": {},
     "output_type": "execute_result"
    }
   ],
   "source": [
    "# Drop unnescessary columns\n",
    "dataframe.drop(['success','timestamp','base','date'], axis=1, inplace=True)\n",
    "\n",
    "dataframe"
   ]
  },
  {
   "cell_type": "markdown",
   "metadata": {},
   "source": [
    "### Load the Data\n",
    "\n",
    "Using the dataframe save it as a CSV names `exchange_rates_1.csv`.\n"
   ]
  },
  {
   "cell_type": "code",
   "execution_count": 10,
   "metadata": {},
   "outputs": [],
   "source": [
    "# Save the Dataframe\n",
    "dataframe.to_csv('exchange_rates_1.csv')"
   ]
  },
  {
   "cell_type": "markdown",
   "metadata": {},
   "source": [
    "Your CSV should be in this format with more currencies\n",
    "\n",
    "|     | Rates      |\n",
    "| --- | ---------- |\n",
    "| AED | 4.398618   |\n",
    "| AFN | 92.917693  |\n",
    "| ALL | 123.099093 |\n",
    "| AMD | 621.935674 |\n",
    "| ANG | 2.149648   |\n"
   ]
  },
  {
   "cell_type": "markdown",
   "metadata": {},
   "source": [
    "## Authors\n"
   ]
  },
  {
   "cell_type": "markdown",
   "metadata": {},
   "source": [
    "Ramesh Sannareddy, Joseph Santarcangelo and Azim Hirjani\n"
   ]
  },
  {
   "cell_type": "markdown",
   "metadata": {},
   "source": [
    "### Other Contributors\n"
   ]
  },
  {
   "cell_type": "markdown",
   "metadata": {},
   "source": [
    "Rav Ahuja\n"
   ]
  },
  {
   "cell_type": "markdown",
   "metadata": {},
   "source": [
    "## Change Log\n"
   ]
  },
  {
   "cell_type": "markdown",
   "metadata": {},
   "source": [
    "| Date (YYYY-MM-DD) | Version | Changed By        | Change Description                              |\n",
    "| ----------------- | ------- | ----------------- | ----------------------------------------------- |\n",
    "| 2022-05-06        | 0.3     | Malika            | Updated instructions to get the API and the url |\n",
    "| 2021-04-15        | 0.2     | Malika            | Updated the lab from USD to EUR                 |\n",
    "| 2020-11-25        | 0.1     | Ramesh Sannareddy | Created initial version of the lab              |\n"
   ]
  },
  {
   "cell_type": "markdown",
   "metadata": {},
   "source": [
    "Copyright © 2020 IBM Corporation. This notebook and its source code are released under the terms of the [MIT License](https://cognitiveclass.ai/mit-license?utm_medium=Exinfluencer&utm_source=Exinfluencer&utm_content=000026UJ&utm_term=10006555&utm_id=NA-SkillsNetwork-Channel-SkillsNetworkCoursesIBMDeveloperSkillsNetworkPY0221ENSkillsNetwork23455645-2022-01-01&cm_mmc=Email_Newsletter-\\_-Developer_Ed%2BTech-\\_-WW_WW-\\_-SkillsNetwork-Courses-IBM-DA0321EN-SkillsNetwork-21426264&cm_mmca1=000026UJ&cm_mmca2=10006555&cm_mmca3=M12345678&cvosrc=email.Newsletter.M12345678&cvo_campaign=000026UJ).\n"
   ]
  }
 ],
 "metadata": {
  "kernelspec": {
   "display_name": "Python",
   "language": "python",
   "name": "conda-env-python-py"
  },
  "language_info": {
   "codemirror_mode": {
    "name": "ipython",
    "version": 3
   },
   "file_extension": ".py",
   "mimetype": "text/x-python",
   "name": "python",
   "nbconvert_exporter": "python",
   "pygments_lexer": "ipython3",
   "version": "3.7.12"
  }
 },
 "nbformat": 4,
 "nbformat_minor": 4
}
